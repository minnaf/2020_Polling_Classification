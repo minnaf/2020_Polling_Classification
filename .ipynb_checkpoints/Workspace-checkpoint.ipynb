{
 "cells": [
  {
   "cell_type": "code",
   "execution_count": 5,
   "metadata": {},
   "outputs": [],
   "source": [
    "import pandas as pd"
   ]
  },
  {
   "cell_type": "markdown",
   "metadata": {},
   "source": [
    "*Import Data:*\n",
    "\n",
    "\n",
    "MIT Election Data and Science Lab, 2018, \"County Presidential Election Returns 2000-2016\", https://doi.org/10.7910/DVN/VOQCHQ, Harvard Dataverse, V5, UNF:6:cp3645QomksTRA+qYovIDQ== [fileUNF]\n",
    "\n",
    "&\n",
    "\n",
    "https://www.census.gov/data/tables/time-series/demo/popest/2010s-counties-detail.html (Intercensal Estimates of the Resident Population by Five-Year Age Groups, Sex, Race, and Hispanic Origin for Counties: April 1, 2000 to July 1, 2010) \n",
    "\n",
    "&\n",
    "\n",
    "https://www.census.gov/data/tables/time-series/demo/popest/2010s-counties-detail.html (Annual County Resident Population Estimates by Age, Sex, Race, and Hispanic Origin: April 1, 2010 to July 1, 2018)\n"
   ]
  },
  {
   "cell_type": "code",
   "execution_count": 2,
   "metadata": {},
   "outputs": [],
   "source": [
    "df = pd.read_csv('countypres_2000-2016.csv')"
   ]
  },
  {
   "cell_type": "code",
   "execution_count": 3,
   "metadata": {},
   "outputs": [
    {
     "data": {
      "text/html": [
       "<div>\n",
       "<style scoped>\n",
       "    .dataframe tbody tr th:only-of-type {\n",
       "        vertical-align: middle;\n",
       "    }\n",
       "\n",
       "    .dataframe tbody tr th {\n",
       "        vertical-align: top;\n",
       "    }\n",
       "\n",
       "    .dataframe thead th {\n",
       "        text-align: right;\n",
       "    }\n",
       "</style>\n",
       "<table border=\"1\" class=\"dataframe\">\n",
       "  <thead>\n",
       "    <tr style=\"text-align: right;\">\n",
       "      <th></th>\n",
       "      <th>year</th>\n",
       "      <th>FIPS</th>\n",
       "      <th>candidatevotes</th>\n",
       "      <th>totalvotes</th>\n",
       "      <th>version</th>\n",
       "    </tr>\n",
       "  </thead>\n",
       "  <tbody>\n",
       "    <tr>\n",
       "      <th>count</th>\n",
       "      <td>50524.000000</td>\n",
       "      <td>50460.000000</td>\n",
       "      <td>5.012000e+04</td>\n",
       "      <td>5.052400e+04</td>\n",
       "      <td>50524.0</td>\n",
       "    </tr>\n",
       "    <tr>\n",
       "      <th>mean</th>\n",
       "      <td>2007.500594</td>\n",
       "      <td>30307.546096</td>\n",
       "      <td>1.246028e+04</td>\n",
       "      <td>3.918383e+04</td>\n",
       "      <td>20190722.0</td>\n",
       "    </tr>\n",
       "    <tr>\n",
       "      <th>std</th>\n",
       "      <td>5.809379</td>\n",
       "      <td>15211.301744</td>\n",
       "      <td>4.761937e+04</td>\n",
       "      <td>1.128238e+05</td>\n",
       "      <td>0.0</td>\n",
       "    </tr>\n",
       "    <tr>\n",
       "      <th>min</th>\n",
       "      <td>2000.000000</td>\n",
       "      <td>1001.000000</td>\n",
       "      <td>0.000000e+00</td>\n",
       "      <td>0.000000e+00</td>\n",
       "      <td>20190722.0</td>\n",
       "    </tr>\n",
       "    <tr>\n",
       "      <th>25%</th>\n",
       "      <td>2004.000000</td>\n",
       "      <td>18163.000000</td>\n",
       "      <td>2.930000e+02</td>\n",
       "      <td>4.800750e+03</td>\n",
       "      <td>20190722.0</td>\n",
       "    </tr>\n",
       "    <tr>\n",
       "      <th>50%</th>\n",
       "      <td>2008.000000</td>\n",
       "      <td>29169.000000</td>\n",
       "      <td>2.181000e+03</td>\n",
       "      <td>1.039800e+04</td>\n",
       "      <td>20190722.0</td>\n",
       "    </tr>\n",
       "    <tr>\n",
       "      <th>75%</th>\n",
       "      <td>2012.000000</td>\n",
       "      <td>45077.000000</td>\n",
       "      <td>7.424250e+03</td>\n",
       "      <td>2.663900e+04</td>\n",
       "      <td>20190722.0</td>\n",
       "    </tr>\n",
       "    <tr>\n",
       "      <th>max</th>\n",
       "      <td>2016.000000</td>\n",
       "      <td>56045.000000</td>\n",
       "      <td>2.464364e+06</td>\n",
       "      <td>3.434308e+06</td>\n",
       "      <td>20190722.0</td>\n",
       "    </tr>\n",
       "  </tbody>\n",
       "</table>\n",
       "</div>"
      ],
      "text/plain": [
       "               year          FIPS  candidatevotes    totalvotes     version\n",
       "count  50524.000000  50460.000000    5.012000e+04  5.052400e+04     50524.0\n",
       "mean    2007.500594  30307.546096    1.246028e+04  3.918383e+04  20190722.0\n",
       "std        5.809379  15211.301744    4.761937e+04  1.128238e+05         0.0\n",
       "min     2000.000000   1001.000000    0.000000e+00  0.000000e+00  20190722.0\n",
       "25%     2004.000000  18163.000000    2.930000e+02  4.800750e+03  20190722.0\n",
       "50%     2008.000000  29169.000000    2.181000e+03  1.039800e+04  20190722.0\n",
       "75%     2012.000000  45077.000000    7.424250e+03  2.663900e+04  20190722.0\n",
       "max     2016.000000  56045.000000    2.464364e+06  3.434308e+06  20190722.0"
      ]
     },
     "execution_count": 3,
     "metadata": {},
     "output_type": "execute_result"
    }
   ],
   "source": [
    "df.describe()"
   ]
  },
  {
   "cell_type": "code",
   "execution_count": 4,
   "metadata": {},
   "outputs": [],
   "source": [
    "from bs4 import BeautifulSoup, SoupStrainer\n",
    "import urllib.request"
   ]
  },
  {
   "cell_type": "code",
   "execution_count": 1,
   "metadata": {},
   "outputs": [],
   "source": [
    "import functions as f"
   ]
  },
  {
   "cell_type": "code",
   "execution_count": 2,
   "metadata": {},
   "outputs": [],
   "source": [
    "census_df = f.scrape_census()\n",
    "census_df.head()"
   ]
  },
  {
   "cell_type": "code",
   "execution_count": 16,
   "metadata": {},
   "outputs": [
    {
     "data": {
      "text/plain": [
       "13    62860\n",
       "12    62860\n",
       "11    62860\n",
       "10    62860\n",
       "9     62860\n",
       "8     62860\n",
       "7     62860\n",
       "6     62860\n",
       "5     62860\n",
       "4     62860\n",
       "3     62860\n",
       "2     62860\n",
       "1     62860\n",
       "Name: YEAR, dtype: int64"
      ]
     },
     "execution_count": 16,
     "metadata": {},
     "output_type": "execute_result"
    }
   ],
   "source": [
    "census_df['YEAR'].value_counts()"
   ]
  },
  {
   "cell_type": "code",
   "execution_count": 20,
   "metadata": {},
   "outputs": [],
   "source": [
    "df3 = pd.read_csv('cc-est2018-alldata.csv', encoding='latin-1')\n",
    "df3.head()\n",
    "df3['YEAR'] = df3['YEAR'] + 13"
   ]
  },
  {
   "cell_type": "code",
   "execution_count": 21,
   "metadata": {},
   "outputs": [
    {
     "data": {
      "text/plain": [
       "24    59698\n",
       "23    59698\n",
       "22    59698\n",
       "21    59698\n",
       "20    59698\n",
       "19    59698\n",
       "18    59698\n",
       "17    59698\n",
       "16    59698\n",
       "15    59698\n",
       "14    59698\n",
       "Name: YEAR, dtype: int64"
      ]
     },
     "execution_count": 21,
     "metadata": {},
     "output_type": "execute_result"
    }
   ],
   "source": [
    "df3['YEAR'].value_counts()"
   ]
  },
  {
   "cell_type": "code",
   "execution_count": null,
   "metadata": {},
   "outputs": [],
   "source": []
  }
 ],
 "metadata": {
  "kernelspec": {
   "display_name": "Python 3",
   "language": "python",
   "name": "python3"
  },
  "language_info": {
   "codemirror_mode": {
    "name": "ipython",
    "version": 3
   },
   "file_extension": ".py",
   "mimetype": "text/x-python",
   "name": "python",
   "nbconvert_exporter": "python",
   "pygments_lexer": "ipython3",
   "version": "3.7.3"
  }
 },
 "nbformat": 4,
 "nbformat_minor": 2
}
